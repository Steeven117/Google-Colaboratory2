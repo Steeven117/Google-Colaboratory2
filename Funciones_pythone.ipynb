{
  "nbformat": 4,
  "nbformat_minor": 0,
  "metadata": {
    "colab": {
      "provenance": [],
      "authorship_tag": "ABX9TyNWQhPrx5qAN3WR0Wflf+wM",
      "include_colab_link": true
    },
    "kernelspec": {
      "name": "python3",
      "display_name": "Python 3"
    },
    "language_info": {
      "name": "python"
    }
  },
  "cells": [
    {
      "cell_type": "markdown",
      "metadata": {
        "id": "view-in-github",
        "colab_type": "text"
      },
      "source": [
        "<a href=\"https://colab.research.google.com/github/Steeven117/Google-Colaboratory2/blob/main/Funciones_pythone.ipynb\" target=\"_parent\"><img src=\"https://colab.research.google.com/assets/colab-badge.svg\" alt=\"Open In Colab\"/></a>"
      ]
    },
    {
      "cell_type": "code",
      "execution_count": 2,
      "metadata": {
        "id": "kaDw-aECTmOn"
      },
      "outputs": [],
      "source": []
    },
    {
      "cell_type": "markdown",
      "source": [
        "Funciones pythone"
      ],
      "metadata": {
        "id": "c0YxL0zIT3go"
      }
    },
    {
      "cell_type": "code",
      "source": [
        "# Sin Funciones\n",
        "\n",
        "print(\"----------------------------------\")\n",
        "print(\"---BUSCAR UN NUMERO EN CONJUNTO---\")\n",
        "print(\"----------------------------------\")\n",
        "\n",
        "#INPUT\n",
        "b= int(input(\"Numero a buscar: \"))\n",
        "\n",
        "#PROCESSING\n",
        "a=[1,2,3,4,5]\n",
        "r=False\n",
        "\n",
        "for i in a:\n",
        "  if i==b:\n",
        "    print(\"Lo encontre\")\n",
        "    r = True\n",
        "if r==False:\n",
        "  print(\"No lo encontre\")\n",
        "  \n",
        "#OUTPUT\n",
        "\n",
        "print(\"----FIN----\")"
      ],
      "metadata": {
        "colab": {
          "base_uri": "https://localhost:8080/"
        },
        "id": "GhTZ4_6PT9Bv",
        "outputId": "1386374c-fb4b-4442-9e92-aae4f5609209"
      },
      "execution_count": 7,
      "outputs": [
        {
          "output_type": "stream",
          "name": "stdout",
          "text": [
            "----------------------------------\n",
            "---BUSCAR UN NUMERO EN CONJUNTO---\n",
            "----------------------------------\n",
            "Numero a buscar: 5\n",
            "Lo encontre\n",
            "----FIN----\n"
          ]
        }
      ]
    },
    {
      "cell_type": "code",
      "source": [
        "# Con Funciones\n",
        "\n",
        "print(\"----------------------------------\")\n",
        "print(\"---BUSCAR UN NUMERO EN CONJUNTO---\")\n",
        "print(\"----------------------------------\")\n",
        "\n",
        "#Definir la Funcion\n",
        "def buscarDatoEnLista(datoABuscar, lista):\n",
        "  r = False\n",
        "  for i in lista:\n",
        "    if i == datoABuscar:\n",
        "      r = True\n",
        "  return r\n",
        "\n",
        "#INPUT\n",
        "dato= int(input(\"Numero a buscar: \"))\n",
        "\n",
        "#PROCESSING\n",
        "lista = [1,2,3,4,5]\n",
        "if buscarDatoEnLista(dato, lista):\n",
        "  print(\"Lo encontre\")\n",
        "else:\n",
        "  print(\"No lo encontre\")\n",
        "\n",
        "#OUTPUT\n",
        "\n",
        "print(\"---FIN---\")"
      ],
      "metadata": {
        "colab": {
          "base_uri": "https://localhost:8080/"
        },
        "id": "pTi_Qwt9WOUe",
        "outputId": "7e0aa5f9-925c-44af-d82e-94a095c3ded3"
      },
      "execution_count": 9,
      "outputs": [
        {
          "output_type": "stream",
          "name": "stdout",
          "text": [
            "----------------------------------\n",
            "---BUSCAR UN NUMERO EN CONJUNTO---\n",
            "----------------------------------\n",
            "Numero a buscar: 7\n",
            "No lo encontre\n",
            "---FIN---\n"
          ]
        }
      ]
    }
  ]
}